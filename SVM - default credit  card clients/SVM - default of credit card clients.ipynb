{
 "cells": [
  {
   "cell_type": "markdown",
   "id": "f2a5cd19",
   "metadata": {
    "id": "f2a5cd19"
   },
   "source": [
    "### Default of credit card clients (Classification)\n",
    "\n",
    "#### by Josh Starmer from StatQuest"
   ]
  },
  {
   "cell_type": "markdown",
   "id": "6d1d0364",
   "metadata": {
    "id": "6d1d0364"
   },
   "source": [
    "#### Data Set Information:\n",
    "This research aimed at the case of customersâ€™ default payments in Taiwan and compares the predictive accuracy of probability of default among six data mining methods. From the perspective of risk management, the result of predictive accuracy of the estimated probability of default will be more valuable than the binary result of classification - credible or not credible clients. Because the real probability of default is unknown, this study presented the novel â€œSorting Smoothing Methodâ€ to estimate the real probability of default. With the real probability of default as the response variable (Y), and the predictive probability of default as the independent variable (X), the simple linear regression result (Y = A + BX) shows that the forecasting model produced by artificial neural network has the highest coefficient of determination; its regression intercept (A) is close to zero, and regression coefficient (B) to one. Therefore, among the six data mining techniques, artificial neural network is the only one that can accurately estimate the real probability of default."
   ]
  },
  {
   "cell_type": "markdown",
   "id": "7d616aba",
   "metadata": {
    "id": "7d616aba"
   },
   "source": [
    "#### Attribute Information:\n",
    "`This research employed a binary variable, default payment (Yes = 1, No = 0), as the response variable. `\n",
    "\n",
    "This study reviewed the literature and used the following 23 variables as explanatory variables:\n",
    "* X1: Amount of the given credit (NT dollar): it includes both the individual consumer credit and his/her family (supplementary) credit.\n",
    "* X2: Gender (1 = male; 2 = female).\n",
    "* X3: Education (1 = graduate school; 2 = university; 3 = high school; 4 = others).\n",
    "* X4: Marital status (1 = married; 2 = single; 3 = others).\n",
    "* X5: Age (year).\n",
    "* X6 - X11: History of past payment. We tracked the past monthly payment records (from April to September, 2005) as follows: X6 = the repayment status in September, 2005; X7 = the repayment status in August, 2005; . . .;X11 = the repayment status in April, 2005. The measurement scale for the repayment status is: -1 = pay duly; 1 = payment delay for one month; 2 = payment delay for two months; . . .; 8 = payment delay for eight months; 9 = payment delay for nine months and above.\n",
    "* X12-X17: Amount of bill statement (NT dollar). X12 = amount of bill statement in September, 2005; X13 = amount of bill statement in August, 2005; . . .; X17 = amount of bill statement in April, 2005.\n",
    "* X18-X23: Amount of previous payment (NT dollar). X18 = amount paid in September, 2005; X19 = amount paid in August, 2005; . . .;X23 = amount paid in April, 2005."
   ]
  },
  {
   "cell_type": "code",
   "execution_count": 38,
   "id": "6d2d0d38",
   "metadata": {
    "executionInfo": {
     "elapsed": 313,
     "status": "ok",
     "timestamp": 1642421307576,
     "user": {
      "displayName": "Tomasz Tester",
      "photoUrl": "https://lh3.googleusercontent.com/a/default-user=s64",
      "userId": "09452002172872773213"
     },
     "user_tz": -60
    },
    "id": "6d2d0d38"
   },
   "outputs": [],
   "source": [
    "# Importing libraries\n",
    "import pandas as pd\n",
    "import numpy as np\n",
    "import matplotlib.pyplot as plt\n",
    "import matplotlib.colors as colors\n",
    "from sklearn.utils import resample\n",
    "from sklearn.model_selection import train_test_split\n",
    "from sklearn.preprocessing import StandardScaler, scale\n",
    "from sklearn.svm import SVC\n",
    "from sklearn.model_selection import GridSearchCV\n",
    "from sklearn.metrics import confusion_matrix\n",
    "from sklearn.metrics import ConfusionMatrixDisplay\n",
    "from sklearn.decomposition import PCA"
   ]
  },
  {
   "cell_type": "code",
   "execution_count": 3,
   "id": "9e7fac50",
   "metadata": {
    "executionInfo": {
     "elapsed": 3477,
     "status": "ok",
     "timestamp": 1642420177987,
     "user": {
      "displayName": "Tomasz Tester",
      "photoUrl": "https://lh3.googleusercontent.com/a/default-user=s64",
      "userId": "09452002172872773213"
     },
     "user_tz": -60
    },
    "id": "9e7fac50"
   },
   "outputs": [],
   "source": [
    "# Loading the data\n",
    "df_raw = pd.read_excel('data/credit_card_clients.xls', header = 1)"
   ]
  },
  {
   "cell_type": "code",
   "execution_count": 4,
   "id": "8f54445a",
   "metadata": {
    "executionInfo": {
     "elapsed": 13,
     "status": "ok",
     "timestamp": 1642420177989,
     "user": {
      "displayName": "Tomasz Tester",
      "photoUrl": "https://lh3.googleusercontent.com/a/default-user=s64",
      "userId": "09452002172872773213"
     },
     "user_tz": -60
    },
    "id": "8f54445a"
   },
   "outputs": [],
   "source": [
    "pd.set_option(\"display.max_columns\", None)\n",
    "pd.set_option(\"display.max_rows\", None)"
   ]
  },
  {
   "cell_type": "code",
   "execution_count": 5,
   "id": "85e90f86",
   "metadata": {
    "colab": {
     "base_uri": "https://localhost:8080/",
     "height": 479
    },
    "executionInfo": {
     "elapsed": 13,
     "status": "ok",
     "timestamp": 1642420177990,
     "user": {
      "displayName": "Tomasz Tester",
      "photoUrl": "https://lh3.googleusercontent.com/a/default-user=s64",
      "userId": "09452002172872773213"
     },
     "user_tz": -60
    },
    "id": "85e90f86",
    "outputId": "6ce80818-db44-49ac-de3d-0c26fe7c9297"
   },
   "outputs": [
    {
     "data": {
      "text/html": [
       "<div>\n",
       "<style scoped>\n",
       "    .dataframe tbody tr th:only-of-type {\n",
       "        vertical-align: middle;\n",
       "    }\n",
       "\n",
       "    .dataframe tbody tr th {\n",
       "        vertical-align: top;\n",
       "    }\n",
       "\n",
       "    .dataframe thead th {\n",
       "        text-align: right;\n",
       "    }\n",
       "</style>\n",
       "<table border=\"1\" class=\"dataframe\">\n",
       "  <thead>\n",
       "    <tr style=\"text-align: right;\">\n",
       "      <th></th>\n",
       "      <th>ID</th>\n",
       "      <th>LIMIT_BAL</th>\n",
       "      <th>SEX</th>\n",
       "      <th>EDUCATION</th>\n",
       "      <th>MARRIAGE</th>\n",
       "      <th>AGE</th>\n",
       "      <th>PAY_0</th>\n",
       "      <th>PAY_2</th>\n",
       "      <th>PAY_3</th>\n",
       "      <th>PAY_4</th>\n",
       "      <th>PAY_5</th>\n",
       "      <th>PAY_6</th>\n",
       "      <th>BILL_AMT1</th>\n",
       "      <th>BILL_AMT2</th>\n",
       "      <th>BILL_AMT3</th>\n",
       "      <th>BILL_AMT4</th>\n",
       "      <th>BILL_AMT5</th>\n",
       "      <th>BILL_AMT6</th>\n",
       "      <th>PAY_AMT1</th>\n",
       "      <th>PAY_AMT2</th>\n",
       "      <th>PAY_AMT3</th>\n",
       "      <th>PAY_AMT4</th>\n",
       "      <th>PAY_AMT5</th>\n",
       "      <th>PAY_AMT6</th>\n",
       "      <th>default payment next month</th>\n",
       "    </tr>\n",
       "  </thead>\n",
       "  <tbody>\n",
       "    <tr>\n",
       "      <th>0</th>\n",
       "      <td>1</td>\n",
       "      <td>20000</td>\n",
       "      <td>2</td>\n",
       "      <td>2</td>\n",
       "      <td>1</td>\n",
       "      <td>24</td>\n",
       "      <td>2</td>\n",
       "      <td>2</td>\n",
       "      <td>-1</td>\n",
       "      <td>-1</td>\n",
       "      <td>-2</td>\n",
       "      <td>-2</td>\n",
       "      <td>3913</td>\n",
       "      <td>3102</td>\n",
       "      <td>689</td>\n",
       "      <td>0</td>\n",
       "      <td>0</td>\n",
       "      <td>0</td>\n",
       "      <td>0</td>\n",
       "      <td>689</td>\n",
       "      <td>0</td>\n",
       "      <td>0</td>\n",
       "      <td>0</td>\n",
       "      <td>0</td>\n",
       "      <td>1</td>\n",
       "    </tr>\n",
       "    <tr>\n",
       "      <th>1</th>\n",
       "      <td>2</td>\n",
       "      <td>120000</td>\n",
       "      <td>2</td>\n",
       "      <td>2</td>\n",
       "      <td>2</td>\n",
       "      <td>26</td>\n",
       "      <td>-1</td>\n",
       "      <td>2</td>\n",
       "      <td>0</td>\n",
       "      <td>0</td>\n",
       "      <td>0</td>\n",
       "      <td>2</td>\n",
       "      <td>2682</td>\n",
       "      <td>1725</td>\n",
       "      <td>2682</td>\n",
       "      <td>3272</td>\n",
       "      <td>3455</td>\n",
       "      <td>3261</td>\n",
       "      <td>0</td>\n",
       "      <td>1000</td>\n",
       "      <td>1000</td>\n",
       "      <td>1000</td>\n",
       "      <td>0</td>\n",
       "      <td>2000</td>\n",
       "      <td>1</td>\n",
       "    </tr>\n",
       "    <tr>\n",
       "      <th>2</th>\n",
       "      <td>3</td>\n",
       "      <td>90000</td>\n",
       "      <td>2</td>\n",
       "      <td>2</td>\n",
       "      <td>2</td>\n",
       "      <td>34</td>\n",
       "      <td>0</td>\n",
       "      <td>0</td>\n",
       "      <td>0</td>\n",
       "      <td>0</td>\n",
       "      <td>0</td>\n",
       "      <td>0</td>\n",
       "      <td>29239</td>\n",
       "      <td>14027</td>\n",
       "      <td>13559</td>\n",
       "      <td>14331</td>\n",
       "      <td>14948</td>\n",
       "      <td>15549</td>\n",
       "      <td>1518</td>\n",
       "      <td>1500</td>\n",
       "      <td>1000</td>\n",
       "      <td>1000</td>\n",
       "      <td>1000</td>\n",
       "      <td>5000</td>\n",
       "      <td>0</td>\n",
       "    </tr>\n",
       "    <tr>\n",
       "      <th>3</th>\n",
       "      <td>4</td>\n",
       "      <td>50000</td>\n",
       "      <td>2</td>\n",
       "      <td>2</td>\n",
       "      <td>1</td>\n",
       "      <td>37</td>\n",
       "      <td>0</td>\n",
       "      <td>0</td>\n",
       "      <td>0</td>\n",
       "      <td>0</td>\n",
       "      <td>0</td>\n",
       "      <td>0</td>\n",
       "      <td>46990</td>\n",
       "      <td>48233</td>\n",
       "      <td>49291</td>\n",
       "      <td>28314</td>\n",
       "      <td>28959</td>\n",
       "      <td>29547</td>\n",
       "      <td>2000</td>\n",
       "      <td>2019</td>\n",
       "      <td>1200</td>\n",
       "      <td>1100</td>\n",
       "      <td>1069</td>\n",
       "      <td>1000</td>\n",
       "      <td>0</td>\n",
       "    </tr>\n",
       "    <tr>\n",
       "      <th>4</th>\n",
       "      <td>5</td>\n",
       "      <td>50000</td>\n",
       "      <td>1</td>\n",
       "      <td>2</td>\n",
       "      <td>1</td>\n",
       "      <td>57</td>\n",
       "      <td>-1</td>\n",
       "      <td>0</td>\n",
       "      <td>-1</td>\n",
       "      <td>0</td>\n",
       "      <td>0</td>\n",
       "      <td>0</td>\n",
       "      <td>8617</td>\n",
       "      <td>5670</td>\n",
       "      <td>35835</td>\n",
       "      <td>20940</td>\n",
       "      <td>19146</td>\n",
       "      <td>19131</td>\n",
       "      <td>2000</td>\n",
       "      <td>36681</td>\n",
       "      <td>10000</td>\n",
       "      <td>9000</td>\n",
       "      <td>689</td>\n",
       "      <td>679</td>\n",
       "      <td>0</td>\n",
       "    </tr>\n",
       "    <tr>\n",
       "      <th>5</th>\n",
       "      <td>6</td>\n",
       "      <td>50000</td>\n",
       "      <td>1</td>\n",
       "      <td>1</td>\n",
       "      <td>2</td>\n",
       "      <td>37</td>\n",
       "      <td>0</td>\n",
       "      <td>0</td>\n",
       "      <td>0</td>\n",
       "      <td>0</td>\n",
       "      <td>0</td>\n",
       "      <td>0</td>\n",
       "      <td>64400</td>\n",
       "      <td>57069</td>\n",
       "      <td>57608</td>\n",
       "      <td>19394</td>\n",
       "      <td>19619</td>\n",
       "      <td>20024</td>\n",
       "      <td>2500</td>\n",
       "      <td>1815</td>\n",
       "      <td>657</td>\n",
       "      <td>1000</td>\n",
       "      <td>1000</td>\n",
       "      <td>800</td>\n",
       "      <td>0</td>\n",
       "    </tr>\n",
       "    <tr>\n",
       "      <th>6</th>\n",
       "      <td>7</td>\n",
       "      <td>500000</td>\n",
       "      <td>1</td>\n",
       "      <td>1</td>\n",
       "      <td>2</td>\n",
       "      <td>29</td>\n",
       "      <td>0</td>\n",
       "      <td>0</td>\n",
       "      <td>0</td>\n",
       "      <td>0</td>\n",
       "      <td>0</td>\n",
       "      <td>0</td>\n",
       "      <td>367965</td>\n",
       "      <td>412023</td>\n",
       "      <td>445007</td>\n",
       "      <td>542653</td>\n",
       "      <td>483003</td>\n",
       "      <td>473944</td>\n",
       "      <td>55000</td>\n",
       "      <td>40000</td>\n",
       "      <td>38000</td>\n",
       "      <td>20239</td>\n",
       "      <td>13750</td>\n",
       "      <td>13770</td>\n",
       "      <td>0</td>\n",
       "    </tr>\n",
       "    <tr>\n",
       "      <th>7</th>\n",
       "      <td>8</td>\n",
       "      <td>100000</td>\n",
       "      <td>2</td>\n",
       "      <td>2</td>\n",
       "      <td>2</td>\n",
       "      <td>23</td>\n",
       "      <td>0</td>\n",
       "      <td>-1</td>\n",
       "      <td>-1</td>\n",
       "      <td>0</td>\n",
       "      <td>0</td>\n",
       "      <td>-1</td>\n",
       "      <td>11876</td>\n",
       "      <td>380</td>\n",
       "      <td>601</td>\n",
       "      <td>221</td>\n",
       "      <td>-159</td>\n",
       "      <td>567</td>\n",
       "      <td>380</td>\n",
       "      <td>601</td>\n",
       "      <td>0</td>\n",
       "      <td>581</td>\n",
       "      <td>1687</td>\n",
       "      <td>1542</td>\n",
       "      <td>0</td>\n",
       "    </tr>\n",
       "    <tr>\n",
       "      <th>8</th>\n",
       "      <td>9</td>\n",
       "      <td>140000</td>\n",
       "      <td>2</td>\n",
       "      <td>3</td>\n",
       "      <td>1</td>\n",
       "      <td>28</td>\n",
       "      <td>0</td>\n",
       "      <td>0</td>\n",
       "      <td>2</td>\n",
       "      <td>0</td>\n",
       "      <td>0</td>\n",
       "      <td>0</td>\n",
       "      <td>11285</td>\n",
       "      <td>14096</td>\n",
       "      <td>12108</td>\n",
       "      <td>12211</td>\n",
       "      <td>11793</td>\n",
       "      <td>3719</td>\n",
       "      <td>3329</td>\n",
       "      <td>0</td>\n",
       "      <td>432</td>\n",
       "      <td>1000</td>\n",
       "      <td>1000</td>\n",
       "      <td>1000</td>\n",
       "      <td>0</td>\n",
       "    </tr>\n",
       "    <tr>\n",
       "      <th>9</th>\n",
       "      <td>10</td>\n",
       "      <td>20000</td>\n",
       "      <td>1</td>\n",
       "      <td>3</td>\n",
       "      <td>2</td>\n",
       "      <td>35</td>\n",
       "      <td>-2</td>\n",
       "      <td>-2</td>\n",
       "      <td>-2</td>\n",
       "      <td>-2</td>\n",
       "      <td>-1</td>\n",
       "      <td>-1</td>\n",
       "      <td>0</td>\n",
       "      <td>0</td>\n",
       "      <td>0</td>\n",
       "      <td>0</td>\n",
       "      <td>13007</td>\n",
       "      <td>13912</td>\n",
       "      <td>0</td>\n",
       "      <td>0</td>\n",
       "      <td>0</td>\n",
       "      <td>13007</td>\n",
       "      <td>1122</td>\n",
       "      <td>0</td>\n",
       "      <td>0</td>\n",
       "    </tr>\n",
       "  </tbody>\n",
       "</table>\n",
       "</div>"
      ],
      "text/plain": [
       "   ID  LIMIT_BAL  SEX  EDUCATION  MARRIAGE  AGE  PAY_0  PAY_2  PAY_3  PAY_4  \\\n",
       "0   1      20000    2          2         1   24      2      2     -1     -1   \n",
       "1   2     120000    2          2         2   26     -1      2      0      0   \n",
       "2   3      90000    2          2         2   34      0      0      0      0   \n",
       "3   4      50000    2          2         1   37      0      0      0      0   \n",
       "4   5      50000    1          2         1   57     -1      0     -1      0   \n",
       "5   6      50000    1          1         2   37      0      0      0      0   \n",
       "6   7     500000    1          1         2   29      0      0      0      0   \n",
       "7   8     100000    2          2         2   23      0     -1     -1      0   \n",
       "8   9     140000    2          3         1   28      0      0      2      0   \n",
       "9  10      20000    1          3         2   35     -2     -2     -2     -2   \n",
       "\n",
       "   PAY_5  PAY_6  BILL_AMT1  BILL_AMT2  BILL_AMT3  BILL_AMT4  BILL_AMT5  \\\n",
       "0     -2     -2       3913       3102        689          0          0   \n",
       "1      0      2       2682       1725       2682       3272       3455   \n",
       "2      0      0      29239      14027      13559      14331      14948   \n",
       "3      0      0      46990      48233      49291      28314      28959   \n",
       "4      0      0       8617       5670      35835      20940      19146   \n",
       "5      0      0      64400      57069      57608      19394      19619   \n",
       "6      0      0     367965     412023     445007     542653     483003   \n",
       "7      0     -1      11876        380        601        221       -159   \n",
       "8      0      0      11285      14096      12108      12211      11793   \n",
       "9     -1     -1          0          0          0          0      13007   \n",
       "\n",
       "   BILL_AMT6  PAY_AMT1  PAY_AMT2  PAY_AMT3  PAY_AMT4  PAY_AMT5  PAY_AMT6  \\\n",
       "0          0         0       689         0         0         0         0   \n",
       "1       3261         0      1000      1000      1000         0      2000   \n",
       "2      15549      1518      1500      1000      1000      1000      5000   \n",
       "3      29547      2000      2019      1200      1100      1069      1000   \n",
       "4      19131      2000     36681     10000      9000       689       679   \n",
       "5      20024      2500      1815       657      1000      1000       800   \n",
       "6     473944     55000     40000     38000     20239     13750     13770   \n",
       "7        567       380       601         0       581      1687      1542   \n",
       "8       3719      3329         0       432      1000      1000      1000   \n",
       "9      13912         0         0         0     13007      1122         0   \n",
       "\n",
       "   default payment next month  \n",
       "0                           1  \n",
       "1                           1  \n",
       "2                           0  \n",
       "3                           0  \n",
       "4                           0  \n",
       "5                           0  \n",
       "6                           0  \n",
       "7                           0  \n",
       "8                           0  \n",
       "9                           0  "
      ]
     },
     "execution_count": 5,
     "metadata": {},
     "output_type": "execute_result"
    }
   ],
   "source": [
    "df_raw.head(10)"
   ]
  },
  {
   "cell_type": "code",
   "execution_count": 6,
   "id": "24b1cb60",
   "metadata": {
    "executionInfo": {
     "elapsed": 13,
     "status": "ok",
     "timestamp": 1642420177991,
     "user": {
      "displayName": "Tomasz Tester",
      "photoUrl": "https://lh3.googleusercontent.com/a/default-user=s64",
      "userId": "09452002172872773213"
     },
     "user_tz": -60
    },
    "id": "24b1cb60"
   },
   "outputs": [],
   "source": [
    "# Let's make a copy of the raw df to leave it untouched\n",
    "df_eda = df_raw.copy()"
   ]
  },
  {
   "cell_type": "code",
   "execution_count": 7,
   "id": "ea42813b",
   "metadata": {
    "executionInfo": {
     "elapsed": 1,
     "status": "ok",
     "timestamp": 1642420178263,
     "user": {
      "displayName": "Tomasz Tester",
      "photoUrl": "https://lh3.googleusercontent.com/a/default-user=s64",
      "userId": "09452002172872773213"
     },
     "user_tz": -60
    },
    "id": "ea42813b"
   },
   "outputs": [],
   "source": [
    "# We can drop ID column because it has no value for the model\n",
    "df_eda.drop('ID', axis =1, inplace = True)"
   ]
  },
  {
   "cell_type": "code",
   "execution_count": 8,
   "id": "8ef67df7",
   "metadata": {
    "executionInfo": {
     "elapsed": 3,
     "status": "ok",
     "timestamp": 1642420178842,
     "user": {
      "displayName": "Tomasz Tester",
      "photoUrl": "https://lh3.googleusercontent.com/a/default-user=s64",
      "userId": "09452002172872773213"
     },
     "user_tz": -60
    },
    "id": "8ef67df7"
   },
   "outputs": [],
   "source": [
    "# We can also change the name of last column to make it easier to use\n",
    "df_eda.rename(columns={'default payment next month': 'DEFAULT'}, inplace = True)"
   ]
  },
  {
   "cell_type": "code",
   "execution_count": 9,
   "id": "69e5e45c",
   "metadata": {
    "colab": {
     "base_uri": "https://localhost:8080/"
    },
    "executionInfo": {
     "elapsed": 5,
     "status": "ok",
     "timestamp": 1642420179336,
     "user": {
      "displayName": "Tomasz Tester",
      "photoUrl": "https://lh3.googleusercontent.com/a/default-user=s64",
      "userId": "09452002172872773213"
     },
     "user_tz": -60
    },
    "id": "69e5e45c",
    "outputId": "8c83a660-8615-44ba-d831-5c1b5e975471"
   },
   "outputs": [
    {
     "name": "stdout",
     "output_type": "stream",
     "text": [
      "<class 'pandas.core.frame.DataFrame'>\n",
      "RangeIndex: 30000 entries, 0 to 29999\n",
      "Data columns (total 24 columns):\n",
      " #   Column     Non-Null Count  Dtype\n",
      "---  ------     --------------  -----\n",
      " 0   LIMIT_BAL  30000 non-null  int64\n",
      " 1   SEX        30000 non-null  int64\n",
      " 2   EDUCATION  30000 non-null  int64\n",
      " 3   MARRIAGE   30000 non-null  int64\n",
      " 4   AGE        30000 non-null  int64\n",
      " 5   PAY_0      30000 non-null  int64\n",
      " 6   PAY_2      30000 non-null  int64\n",
      " 7   PAY_3      30000 non-null  int64\n",
      " 8   PAY_4      30000 non-null  int64\n",
      " 9   PAY_5      30000 non-null  int64\n",
      " 10  PAY_6      30000 non-null  int64\n",
      " 11  BILL_AMT1  30000 non-null  int64\n",
      " 12  BILL_AMT2  30000 non-null  int64\n",
      " 13  BILL_AMT3  30000 non-null  int64\n",
      " 14  BILL_AMT4  30000 non-null  int64\n",
      " 15  BILL_AMT5  30000 non-null  int64\n",
      " 16  BILL_AMT6  30000 non-null  int64\n",
      " 17  PAY_AMT1   30000 non-null  int64\n",
      " 18  PAY_AMT2   30000 non-null  int64\n",
      " 19  PAY_AMT3   30000 non-null  int64\n",
      " 20  PAY_AMT4   30000 non-null  int64\n",
      " 21  PAY_AMT5   30000 non-null  int64\n",
      " 22  PAY_AMT6   30000 non-null  int64\n",
      " 23  DEFAULT    30000 non-null  int64\n",
      "dtypes: int64(24)\n",
      "memory usage: 5.5 MB\n"
     ]
    }
   ],
   "source": [
    "# Let's see the basic information\n",
    "df_eda.info()"
   ]
  },
  {
   "cell_type": "code",
   "execution_count": 10,
   "id": "4b7ad00c",
   "metadata": {
    "colab": {
     "base_uri": "https://localhost:8080/",
     "height": 364
    },
    "executionInfo": {
     "elapsed": 525,
     "status": "ok",
     "timestamp": 1642420181620,
     "user": {
      "displayName": "Tomasz Tester",
      "photoUrl": "https://lh3.googleusercontent.com/a/default-user=s64",
      "userId": "09452002172872773213"
     },
     "user_tz": -60
    },
    "id": "4b7ad00c",
    "outputId": "633d5a0f-0b4e-49af-d950-9aad4374fcd9"
   },
   "outputs": [
    {
     "data": {
      "text/html": [
       "<div>\n",
       "<style scoped>\n",
       "    .dataframe tbody tr th:only-of-type {\n",
       "        vertical-align: middle;\n",
       "    }\n",
       "\n",
       "    .dataframe tbody tr th {\n",
       "        vertical-align: top;\n",
       "    }\n",
       "\n",
       "    .dataframe thead th {\n",
       "        text-align: right;\n",
       "    }\n",
       "</style>\n",
       "<table border=\"1\" class=\"dataframe\">\n",
       "  <thead>\n",
       "    <tr style=\"text-align: right;\">\n",
       "      <th></th>\n",
       "      <th>LIMIT_BAL</th>\n",
       "      <th>SEX</th>\n",
       "      <th>EDUCATION</th>\n",
       "      <th>MARRIAGE</th>\n",
       "      <th>AGE</th>\n",
       "      <th>PAY_0</th>\n",
       "      <th>PAY_2</th>\n",
       "      <th>PAY_3</th>\n",
       "      <th>PAY_4</th>\n",
       "      <th>PAY_5</th>\n",
       "      <th>PAY_6</th>\n",
       "      <th>BILL_AMT1</th>\n",
       "      <th>BILL_AMT2</th>\n",
       "      <th>BILL_AMT3</th>\n",
       "      <th>BILL_AMT4</th>\n",
       "      <th>BILL_AMT5</th>\n",
       "      <th>BILL_AMT6</th>\n",
       "      <th>PAY_AMT1</th>\n",
       "      <th>PAY_AMT2</th>\n",
       "      <th>PAY_AMT3</th>\n",
       "      <th>PAY_AMT4</th>\n",
       "      <th>PAY_AMT5</th>\n",
       "      <th>PAY_AMT6</th>\n",
       "      <th>DEFAULT</th>\n",
       "    </tr>\n",
       "  </thead>\n",
       "  <tbody>\n",
       "    <tr>\n",
       "      <th>count</th>\n",
       "      <td>30000.000000</td>\n",
       "      <td>30000.000000</td>\n",
       "      <td>30000.000000</td>\n",
       "      <td>30000.000000</td>\n",
       "      <td>30000.000000</td>\n",
       "      <td>30000.000000</td>\n",
       "      <td>30000.000000</td>\n",
       "      <td>30000.000000</td>\n",
       "      <td>30000.000000</td>\n",
       "      <td>30000.000000</td>\n",
       "      <td>30000.000000</td>\n",
       "      <td>30000.000000</td>\n",
       "      <td>30000.000000</td>\n",
       "      <td>3.000000e+04</td>\n",
       "      <td>30000.000000</td>\n",
       "      <td>30000.000000</td>\n",
       "      <td>30000.000000</td>\n",
       "      <td>30000.000000</td>\n",
       "      <td>3.000000e+04</td>\n",
       "      <td>30000.00000</td>\n",
       "      <td>30000.000000</td>\n",
       "      <td>30000.000000</td>\n",
       "      <td>30000.000000</td>\n",
       "      <td>30000.000000</td>\n",
       "    </tr>\n",
       "    <tr>\n",
       "      <th>mean</th>\n",
       "      <td>167484.322667</td>\n",
       "      <td>1.603733</td>\n",
       "      <td>1.853133</td>\n",
       "      <td>1.551867</td>\n",
       "      <td>35.485500</td>\n",
       "      <td>-0.016700</td>\n",
       "      <td>-0.133767</td>\n",
       "      <td>-0.166200</td>\n",
       "      <td>-0.220667</td>\n",
       "      <td>-0.266200</td>\n",
       "      <td>-0.291100</td>\n",
       "      <td>51223.330900</td>\n",
       "      <td>49179.075167</td>\n",
       "      <td>4.701315e+04</td>\n",
       "      <td>43262.948967</td>\n",
       "      <td>40311.400967</td>\n",
       "      <td>38871.760400</td>\n",
       "      <td>5663.580500</td>\n",
       "      <td>5.921163e+03</td>\n",
       "      <td>5225.68150</td>\n",
       "      <td>4826.076867</td>\n",
       "      <td>4799.387633</td>\n",
       "      <td>5215.502567</td>\n",
       "      <td>0.221200</td>\n",
       "    </tr>\n",
       "    <tr>\n",
       "      <th>std</th>\n",
       "      <td>129747.661567</td>\n",
       "      <td>0.489129</td>\n",
       "      <td>0.790349</td>\n",
       "      <td>0.521970</td>\n",
       "      <td>9.217904</td>\n",
       "      <td>1.123802</td>\n",
       "      <td>1.197186</td>\n",
       "      <td>1.196868</td>\n",
       "      <td>1.169139</td>\n",
       "      <td>1.133187</td>\n",
       "      <td>1.149988</td>\n",
       "      <td>73635.860576</td>\n",
       "      <td>71173.768783</td>\n",
       "      <td>6.934939e+04</td>\n",
       "      <td>64332.856134</td>\n",
       "      <td>60797.155770</td>\n",
       "      <td>59554.107537</td>\n",
       "      <td>16563.280354</td>\n",
       "      <td>2.304087e+04</td>\n",
       "      <td>17606.96147</td>\n",
       "      <td>15666.159744</td>\n",
       "      <td>15278.305679</td>\n",
       "      <td>17777.465775</td>\n",
       "      <td>0.415062</td>\n",
       "    </tr>\n",
       "    <tr>\n",
       "      <th>min</th>\n",
       "      <td>10000.000000</td>\n",
       "      <td>1.000000</td>\n",
       "      <td>0.000000</td>\n",
       "      <td>0.000000</td>\n",
       "      <td>21.000000</td>\n",
       "      <td>-2.000000</td>\n",
       "      <td>-2.000000</td>\n",
       "      <td>-2.000000</td>\n",
       "      <td>-2.000000</td>\n",
       "      <td>-2.000000</td>\n",
       "      <td>-2.000000</td>\n",
       "      <td>-165580.000000</td>\n",
       "      <td>-69777.000000</td>\n",
       "      <td>-1.572640e+05</td>\n",
       "      <td>-170000.000000</td>\n",
       "      <td>-81334.000000</td>\n",
       "      <td>-339603.000000</td>\n",
       "      <td>0.000000</td>\n",
       "      <td>0.000000e+00</td>\n",
       "      <td>0.00000</td>\n",
       "      <td>0.000000</td>\n",
       "      <td>0.000000</td>\n",
       "      <td>0.000000</td>\n",
       "      <td>0.000000</td>\n",
       "    </tr>\n",
       "    <tr>\n",
       "      <th>25%</th>\n",
       "      <td>50000.000000</td>\n",
       "      <td>1.000000</td>\n",
       "      <td>1.000000</td>\n",
       "      <td>1.000000</td>\n",
       "      <td>28.000000</td>\n",
       "      <td>-1.000000</td>\n",
       "      <td>-1.000000</td>\n",
       "      <td>-1.000000</td>\n",
       "      <td>-1.000000</td>\n",
       "      <td>-1.000000</td>\n",
       "      <td>-1.000000</td>\n",
       "      <td>3558.750000</td>\n",
       "      <td>2984.750000</td>\n",
       "      <td>2.666250e+03</td>\n",
       "      <td>2326.750000</td>\n",
       "      <td>1763.000000</td>\n",
       "      <td>1256.000000</td>\n",
       "      <td>1000.000000</td>\n",
       "      <td>8.330000e+02</td>\n",
       "      <td>390.00000</td>\n",
       "      <td>296.000000</td>\n",
       "      <td>252.500000</td>\n",
       "      <td>117.750000</td>\n",
       "      <td>0.000000</td>\n",
       "    </tr>\n",
       "    <tr>\n",
       "      <th>50%</th>\n",
       "      <td>140000.000000</td>\n",
       "      <td>2.000000</td>\n",
       "      <td>2.000000</td>\n",
       "      <td>2.000000</td>\n",
       "      <td>34.000000</td>\n",
       "      <td>0.000000</td>\n",
       "      <td>0.000000</td>\n",
       "      <td>0.000000</td>\n",
       "      <td>0.000000</td>\n",
       "      <td>0.000000</td>\n",
       "      <td>0.000000</td>\n",
       "      <td>22381.500000</td>\n",
       "      <td>21200.000000</td>\n",
       "      <td>2.008850e+04</td>\n",
       "      <td>19052.000000</td>\n",
       "      <td>18104.500000</td>\n",
       "      <td>17071.000000</td>\n",
       "      <td>2100.000000</td>\n",
       "      <td>2.009000e+03</td>\n",
       "      <td>1800.00000</td>\n",
       "      <td>1500.000000</td>\n",
       "      <td>1500.000000</td>\n",
       "      <td>1500.000000</td>\n",
       "      <td>0.000000</td>\n",
       "    </tr>\n",
       "    <tr>\n",
       "      <th>75%</th>\n",
       "      <td>240000.000000</td>\n",
       "      <td>2.000000</td>\n",
       "      <td>2.000000</td>\n",
       "      <td>2.000000</td>\n",
       "      <td>41.000000</td>\n",
       "      <td>0.000000</td>\n",
       "      <td>0.000000</td>\n",
       "      <td>0.000000</td>\n",
       "      <td>0.000000</td>\n",
       "      <td>0.000000</td>\n",
       "      <td>0.000000</td>\n",
       "      <td>67091.000000</td>\n",
       "      <td>64006.250000</td>\n",
       "      <td>6.016475e+04</td>\n",
       "      <td>54506.000000</td>\n",
       "      <td>50190.500000</td>\n",
       "      <td>49198.250000</td>\n",
       "      <td>5006.000000</td>\n",
       "      <td>5.000000e+03</td>\n",
       "      <td>4505.00000</td>\n",
       "      <td>4013.250000</td>\n",
       "      <td>4031.500000</td>\n",
       "      <td>4000.000000</td>\n",
       "      <td>0.000000</td>\n",
       "    </tr>\n",
       "    <tr>\n",
       "      <th>max</th>\n",
       "      <td>1000000.000000</td>\n",
       "      <td>2.000000</td>\n",
       "      <td>6.000000</td>\n",
       "      <td>3.000000</td>\n",
       "      <td>79.000000</td>\n",
       "      <td>8.000000</td>\n",
       "      <td>8.000000</td>\n",
       "      <td>8.000000</td>\n",
       "      <td>8.000000</td>\n",
       "      <td>8.000000</td>\n",
       "      <td>8.000000</td>\n",
       "      <td>964511.000000</td>\n",
       "      <td>983931.000000</td>\n",
       "      <td>1.664089e+06</td>\n",
       "      <td>891586.000000</td>\n",
       "      <td>927171.000000</td>\n",
       "      <td>961664.000000</td>\n",
       "      <td>873552.000000</td>\n",
       "      <td>1.684259e+06</td>\n",
       "      <td>896040.00000</td>\n",
       "      <td>621000.000000</td>\n",
       "      <td>426529.000000</td>\n",
       "      <td>528666.000000</td>\n",
       "      <td>1.000000</td>\n",
       "    </tr>\n",
       "  </tbody>\n",
       "</table>\n",
       "</div>"
      ],
      "text/plain": [
       "            LIMIT_BAL           SEX     EDUCATION      MARRIAGE           AGE  \\\n",
       "count    30000.000000  30000.000000  30000.000000  30000.000000  30000.000000   \n",
       "mean    167484.322667      1.603733      1.853133      1.551867     35.485500   \n",
       "std     129747.661567      0.489129      0.790349      0.521970      9.217904   \n",
       "min      10000.000000      1.000000      0.000000      0.000000     21.000000   \n",
       "25%      50000.000000      1.000000      1.000000      1.000000     28.000000   \n",
       "50%     140000.000000      2.000000      2.000000      2.000000     34.000000   \n",
       "75%     240000.000000      2.000000      2.000000      2.000000     41.000000   \n",
       "max    1000000.000000      2.000000      6.000000      3.000000     79.000000   \n",
       "\n",
       "              PAY_0         PAY_2         PAY_3         PAY_4         PAY_5  \\\n",
       "count  30000.000000  30000.000000  30000.000000  30000.000000  30000.000000   \n",
       "mean      -0.016700     -0.133767     -0.166200     -0.220667     -0.266200   \n",
       "std        1.123802      1.197186      1.196868      1.169139      1.133187   \n",
       "min       -2.000000     -2.000000     -2.000000     -2.000000     -2.000000   \n",
       "25%       -1.000000     -1.000000     -1.000000     -1.000000     -1.000000   \n",
       "50%        0.000000      0.000000      0.000000      0.000000      0.000000   \n",
       "75%        0.000000      0.000000      0.000000      0.000000      0.000000   \n",
       "max        8.000000      8.000000      8.000000      8.000000      8.000000   \n",
       "\n",
       "              PAY_6      BILL_AMT1      BILL_AMT2     BILL_AMT3  \\\n",
       "count  30000.000000   30000.000000   30000.000000  3.000000e+04   \n",
       "mean      -0.291100   51223.330900   49179.075167  4.701315e+04   \n",
       "std        1.149988   73635.860576   71173.768783  6.934939e+04   \n",
       "min       -2.000000 -165580.000000  -69777.000000 -1.572640e+05   \n",
       "25%       -1.000000    3558.750000    2984.750000  2.666250e+03   \n",
       "50%        0.000000   22381.500000   21200.000000  2.008850e+04   \n",
       "75%        0.000000   67091.000000   64006.250000  6.016475e+04   \n",
       "max        8.000000  964511.000000  983931.000000  1.664089e+06   \n",
       "\n",
       "           BILL_AMT4      BILL_AMT5      BILL_AMT6       PAY_AMT1  \\\n",
       "count   30000.000000   30000.000000   30000.000000   30000.000000   \n",
       "mean    43262.948967   40311.400967   38871.760400    5663.580500   \n",
       "std     64332.856134   60797.155770   59554.107537   16563.280354   \n",
       "min   -170000.000000  -81334.000000 -339603.000000       0.000000   \n",
       "25%      2326.750000    1763.000000    1256.000000    1000.000000   \n",
       "50%     19052.000000   18104.500000   17071.000000    2100.000000   \n",
       "75%     54506.000000   50190.500000   49198.250000    5006.000000   \n",
       "max    891586.000000  927171.000000  961664.000000  873552.000000   \n",
       "\n",
       "           PAY_AMT2      PAY_AMT3       PAY_AMT4       PAY_AMT5  \\\n",
       "count  3.000000e+04   30000.00000   30000.000000   30000.000000   \n",
       "mean   5.921163e+03    5225.68150    4826.076867    4799.387633   \n",
       "std    2.304087e+04   17606.96147   15666.159744   15278.305679   \n",
       "min    0.000000e+00       0.00000       0.000000       0.000000   \n",
       "25%    8.330000e+02     390.00000     296.000000     252.500000   \n",
       "50%    2.009000e+03    1800.00000    1500.000000    1500.000000   \n",
       "75%    5.000000e+03    4505.00000    4013.250000    4031.500000   \n",
       "max    1.684259e+06  896040.00000  621000.000000  426529.000000   \n",
       "\n",
       "            PAY_AMT6       DEFAULT  \n",
       "count   30000.000000  30000.000000  \n",
       "mean     5215.502567      0.221200  \n",
       "std     17777.465775      0.415062  \n",
       "min         0.000000      0.000000  \n",
       "25%       117.750000      0.000000  \n",
       "50%      1500.000000      0.000000  \n",
       "75%      4000.000000      0.000000  \n",
       "max    528666.000000      1.000000  "
      ]
     },
     "execution_count": 10,
     "metadata": {},
     "output_type": "execute_result"
    }
   ],
   "source": [
    "df_eda.describe()"
   ]
  },
  {
   "cell_type": "markdown",
   "id": "bdafbb39",
   "metadata": {
    "id": "bdafbb39"
   },
   "source": [
    "### No missing values but ....\n",
    "\n",
    "There are some inconsistencies with the description and the data:\n",
    "* Education - according to the descritption there should be values 1 to 4 but there are more of them (like 0 or 6)\n",
    "* Marriage - according to the description there should be values 1 to 3 but there is also 0\n",
    "* PAY - The minimum value should be -1, but there is also -2 which is not described\n",
    "\n",
    "Let's check it in details .."
   ]
  },
  {
   "cell_type": "code",
   "execution_count": 11,
   "id": "62b8e883",
   "metadata": {
    "colab": {
     "base_uri": "https://localhost:8080/"
    },
    "executionInfo": {
     "elapsed": 270,
     "status": "ok",
     "timestamp": 1642420183785,
     "user": {
      "displayName": "Tomasz Tester",
      "photoUrl": "https://lh3.googleusercontent.com/a/default-user=s64",
      "userId": "09452002172872773213"
     },
     "user_tz": -60
    },
    "id": "62b8e883",
    "outputId": "905b93b4-241f-4db3-f209-8bb3fb58bd2f"
   },
   "outputs": [
    {
     "data": {
      "text/plain": [
       "(array([2, 1, 3, 5, 4, 6, 0], dtype=int64), array([1, 2, 3, 0], dtype=int64))"
      ]
     },
     "execution_count": 11,
     "metadata": {},
     "output_type": "execute_result"
    }
   ],
   "source": [
    "df_eda.EDUCATION.unique(), df_eda.MARRIAGE.unique()"
   ]
  },
  {
   "cell_type": "code",
   "execution_count": 12,
   "id": "f22958df",
   "metadata": {
    "colab": {
     "base_uri": "https://localhost:8080/"
    },
    "executionInfo": {
     "elapsed": 3,
     "status": "ok",
     "timestamp": 1642420184147,
     "user": {
      "displayName": "Tomasz Tester",
      "photoUrl": "https://lh3.googleusercontent.com/a/default-user=s64",
      "userId": "09452002172872773213"
     },
     "user_tz": -60
    },
    "id": "f22958df",
    "outputId": "47de0e2e-5724-4310-d5b0-800fc26a71ca"
   },
   "outputs": [
    {
     "data": {
      "text/plain": [
       "(array([ 2, -1,  0, -2,  1,  3,  4,  8,  7,  5,  6], dtype=int64),\n",
       " array([ 2,  0, -1, -2,  3,  5,  7,  4,  1,  6,  8], dtype=int64),\n",
       " array([-1,  0,  2, -2,  3,  4,  6,  7,  1,  5,  8], dtype=int64),\n",
       " array([-1,  0, -2,  2,  3,  4,  5,  7,  6,  1,  8], dtype=int64),\n",
       " array([-2,  0, -1,  2,  3,  5,  4,  7,  8,  6], dtype=int64),\n",
       " array([-2,  2,  0, -1,  3,  6,  4,  7,  8,  5], dtype=int64))"
      ]
     },
     "execution_count": 12,
     "metadata": {},
     "output_type": "execute_result"
    }
   ],
   "source": [
    "df_eda.PAY_0.unique(), df_eda.PAY_2.unique(), df_eda.PAY_3.unique(), df_eda.PAY_4.unique(), df_eda.PAY_5.unique(), df_eda.PAY_6.unique()"
   ]
  },
  {
   "cell_type": "markdown",
   "id": "d9711f42",
   "metadata": {
    "id": "d9711f42"
   },
   "source": [
    "We can do different thigs with that data:\n",
    "\n",
    "* Remove 0 from Education and Marriage assuming that those are missing values\n",
    "* Assume that 0 in Education means \"no education\" and leave it like that\n",
    "* Remove all of the data that is not described assuming that this is some data added by mistake\n",
    "* To compare the results we can prepare couple of df copies using what I mentioned above \n",
    "\n",
    "I did some reading and if it is about PAY columns I have found on `Kaggle` explanation of the values that are not described in ML Repository and here is the full description:\n",
    "\n",
    "`-2: No consumption; -1: Paid in full; 0: The use of revolving credit; 1 = payment delay for one month; 2 = payment delay for two months; . . .; 8 = payment delay for eight months`\n",
    "\n",
    "So if it is about those columns they will be left untouched.\n",
    "\n",
    "Before we decide let's see some more numbers..."
   ]
  },
  {
   "cell_type": "code",
   "execution_count": 13,
   "id": "926d3210",
   "metadata": {
    "colab": {
     "base_uri": "https://localhost:8080/"
    },
    "executionInfo": {
     "elapsed": 5,
     "status": "ok",
     "timestamp": 1642420186420,
     "user": {
      "displayName": "Tomasz Tester",
      "photoUrl": "https://lh3.googleusercontent.com/a/default-user=s64",
      "userId": "09452002172872773213"
     },
     "user_tz": -60
    },
    "id": "926d3210",
    "outputId": "bf857891-dba1-4ac0-ff57-fed3133b57c3"
   },
   "outputs": [
    {
     "data": {
      "text/plain": [
       "2    15964\n",
       "1    13659\n",
       "3      323\n",
       "0       54\n",
       "Name: MARRIAGE, dtype: int64"
      ]
     },
     "execution_count": 13,
     "metadata": {},
     "output_type": "execute_result"
    }
   ],
   "source": [
    "df_eda.MARRIAGE.value_counts()"
   ]
  },
  {
   "cell_type": "markdown",
   "id": "e3f5e697",
   "metadata": {
    "id": "e3f5e697"
   },
   "source": [
    "We have 54 rows with Marriage marked as 0 so it is less than 2% of the data. We can remove those values with no harm to the dataset."
   ]
  },
  {
   "cell_type": "code",
   "execution_count": 14,
   "id": "be2764e2",
   "metadata": {
    "colab": {
     "base_uri": "https://localhost:8080/"
    },
    "executionInfo": {
     "elapsed": 231,
     "status": "ok",
     "timestamp": 1642420188111,
     "user": {
      "displayName": "Tomasz Tester",
      "photoUrl": "https://lh3.googleusercontent.com/a/default-user=s64",
      "userId": "09452002172872773213"
     },
     "user_tz": -60
    },
    "id": "be2764e2",
    "outputId": "68ea6a3b-3ad0-4e8b-cf9e-aaf2793b0b25"
   },
   "outputs": [
    {
     "data": {
      "text/plain": [
       "2    14030\n",
       "1    10585\n",
       "3     4917\n",
       "5      280\n",
       "4      123\n",
       "6       51\n",
       "0       14\n",
       "Name: EDUCATION, dtype: int64"
      ]
     },
     "execution_count": 14,
     "metadata": {},
     "output_type": "execute_result"
    }
   ],
   "source": [
    "df_eda['EDUCATION'].value_counts()"
   ]
  },
  {
   "cell_type": "markdown",
   "id": "156a1195",
   "metadata": {
    "id": "156a1195"
   },
   "source": [
    "We have only 14 rows with Education marked as 0 so together with 0's in Marriage that gives us about 2% of the data. My first try would be to remove 0's in both of the columns and see the results."
   ]
  },
  {
   "cell_type": "code",
   "execution_count": 15,
   "id": "0d4f276a",
   "metadata": {
    "executionInfo": {
     "elapsed": 239,
     "status": "ok",
     "timestamp": 1642420189578,
     "user": {
      "displayName": "Tomasz Tester",
      "photoUrl": "https://lh3.googleusercontent.com/a/default-user=s64",
      "userId": "09452002172872773213"
     },
     "user_tz": -60
    },
    "id": "0d4f276a"
   },
   "outputs": [],
   "source": [
    "# Let's make a df with no 0's at those two columns\n",
    "df_1 = df_eda.loc[(df_eda.EDUCATION != 0) & (df_eda.MARRIAGE != 0)]"
   ]
  },
  {
   "cell_type": "markdown",
   "id": "ab1a73e1",
   "metadata": {
    "id": "ab1a73e1"
   },
   "source": [
    "#### Because SVM doesn't do well on big datasets we can try downsampling the data using sklearn resample\n",
    "\n",
    "First of all we will make two separate df's (one with default=0 and second with default=1) to make sure that the resulting dataset will be balanced."
   ]
  },
  {
   "cell_type": "code",
   "execution_count": 16,
   "id": "fef48925",
   "metadata": {
    "executionInfo": {
     "elapsed": 2,
     "status": "ok",
     "timestamp": 1642420190291,
     "user": {
      "displayName": "Tomasz Tester",
      "photoUrl": "https://lh3.googleusercontent.com/a/default-user=s64",
      "userId": "09452002172872773213"
     },
     "user_tz": -60
    },
    "id": "fef48925"
   },
   "outputs": [],
   "source": [
    "df_1_no_default = df_1[df_1['DEFAULT'] == 0]\n",
    "df_1_default = df_1[df_1['DEFAULT'] == 1]"
   ]
  },
  {
   "cell_type": "code",
   "execution_count": 17,
   "id": "58e8a330",
   "metadata": {
    "colab": {
     "base_uri": "https://localhost:8080/"
    },
    "executionInfo": {
     "elapsed": 4,
     "status": "ok",
     "timestamp": 1642420191538,
     "user": {
      "displayName": "Tomasz Tester",
      "photoUrl": "https://lh3.googleusercontent.com/a/default-user=s64",
      "userId": "09452002172872773213"
     },
     "user_tz": -60
    },
    "id": "58e8a330",
    "outputId": "e1072ee4-aaea-4da6-ba80-a2a83b21d96d"
   },
   "outputs": [
    {
     "data": {
      "text/plain": [
       "2000"
      ]
     },
     "execution_count": 17,
     "metadata": {},
     "output_type": "execute_result"
    }
   ],
   "source": [
    "no_default_downsampled = resample(df_1_no_default,\n",
    "                                  replace = False,\n",
    "                                  n_samples = 1000,\n",
    "                                  random_state = 42)\n",
    "\n",
    "default_downsampled = resample(df_1_default,\n",
    "                                  replace = False,\n",
    "                                  n_samples = 1000,\n",
    "                                  random_state = 42)\n",
    "\n",
    "df_1_downsampled = pd.concat([no_default_downsampled, default_downsampled])\n",
    "\n",
    "len(df_1_downsampled)"
   ]
  },
  {
   "cell_type": "markdown",
   "id": "2becdfb9",
   "metadata": {
    "id": "2becdfb9"
   },
   "source": [
    "#### Now we can split the df into X and y and continue preparing the data for SVM"
   ]
  },
  {
   "cell_type": "code",
   "execution_count": 18,
   "id": "7befc930",
   "metadata": {
    "executionInfo": {
     "elapsed": 3,
     "status": "ok",
     "timestamp": 1642420193098,
     "user": {
      "displayName": "Tomasz Tester",
      "photoUrl": "https://lh3.googleusercontent.com/a/default-user=s64",
      "userId": "09452002172872773213"
     },
     "user_tz": -60
    },
    "id": "7befc930"
   },
   "outputs": [],
   "source": [
    "X_down = df_1_downsampled.drop(\"DEFAULT\", axis =1).copy()"
   ]
  },
  {
   "cell_type": "code",
   "execution_count": 19,
   "id": "5034a4d0",
   "metadata": {
    "executionInfo": {
     "elapsed": 2,
     "status": "ok",
     "timestamp": 1642420193914,
     "user": {
      "displayName": "Tomasz Tester",
      "photoUrl": "https://lh3.googleusercontent.com/a/default-user=s64",
      "userId": "09452002172872773213"
     },
     "user_tz": -60
    },
    "id": "5034a4d0"
   },
   "outputs": [],
   "source": [
    "y_down = df_1_downsampled['DEFAULT'].copy()"
   ]
  },
  {
   "cell_type": "markdown",
   "id": "5abdea50",
   "metadata": {
    "id": "5abdea50"
   },
   "source": [
    "#### One-hot-encoding using pandas get_dummies"
   ]
  },
  {
   "cell_type": "code",
   "execution_count": 20,
   "id": "434187d8",
   "metadata": {
    "colab": {
     "base_uri": "https://localhost:8080/",
     "height": 270
    },
    "executionInfo": {
     "elapsed": 5,
     "status": "ok",
     "timestamp": 1642420194363,
     "user": {
      "displayName": "Tomasz Tester",
      "photoUrl": "https://lh3.googleusercontent.com/a/default-user=s64",
      "userId": "09452002172872773213"
     },
     "user_tz": -60
    },
    "id": "434187d8",
    "outputId": "f7bd0cb0-050a-4294-aabc-cbf12b632850"
   },
   "outputs": [
    {
     "data": {
      "text/html": [
       "<div>\n",
       "<style scoped>\n",
       "    .dataframe tbody tr th:only-of-type {\n",
       "        vertical-align: middle;\n",
       "    }\n",
       "\n",
       "    .dataframe tbody tr th {\n",
       "        vertical-align: top;\n",
       "    }\n",
       "\n",
       "    .dataframe thead th {\n",
       "        text-align: right;\n",
       "    }\n",
       "</style>\n",
       "<table border=\"1\" class=\"dataframe\">\n",
       "  <thead>\n",
       "    <tr style=\"text-align: right;\">\n",
       "      <th></th>\n",
       "      <th>LIMIT_BAL</th>\n",
       "      <th>AGE</th>\n",
       "      <th>BILL_AMT1</th>\n",
       "      <th>BILL_AMT2</th>\n",
       "      <th>BILL_AMT3</th>\n",
       "      <th>BILL_AMT4</th>\n",
       "      <th>BILL_AMT5</th>\n",
       "      <th>BILL_AMT6</th>\n",
       "      <th>PAY_AMT1</th>\n",
       "      <th>PAY_AMT2</th>\n",
       "      <th>PAY_AMT3</th>\n",
       "      <th>PAY_AMT4</th>\n",
       "      <th>PAY_AMT5</th>\n",
       "      <th>PAY_AMT6</th>\n",
       "      <th>SEX_1</th>\n",
       "      <th>SEX_2</th>\n",
       "      <th>EDUCATION_1</th>\n",
       "      <th>EDUCATION_2</th>\n",
       "      <th>EDUCATION_3</th>\n",
       "      <th>EDUCATION_4</th>\n",
       "      <th>EDUCATION_5</th>\n",
       "      <th>EDUCATION_6</th>\n",
       "      <th>MARRIAGE_1</th>\n",
       "      <th>MARRIAGE_2</th>\n",
       "      <th>MARRIAGE_3</th>\n",
       "      <th>PAY_0_-2</th>\n",
       "      <th>PAY_0_-1</th>\n",
       "      <th>PAY_0_0</th>\n",
       "      <th>PAY_0_1</th>\n",
       "      <th>PAY_0_2</th>\n",
       "      <th>PAY_0_3</th>\n",
       "      <th>PAY_0_4</th>\n",
       "      <th>PAY_0_5</th>\n",
       "      <th>PAY_0_6</th>\n",
       "      <th>PAY_0_7</th>\n",
       "      <th>PAY_0_8</th>\n",
       "      <th>PAY_2_-2</th>\n",
       "      <th>PAY_2_-1</th>\n",
       "      <th>PAY_2_0</th>\n",
       "      <th>PAY_2_1</th>\n",
       "      <th>PAY_2_2</th>\n",
       "      <th>PAY_2_3</th>\n",
       "      <th>PAY_2_4</th>\n",
       "      <th>PAY_2_5</th>\n",
       "      <th>PAY_2_6</th>\n",
       "      <th>PAY_2_7</th>\n",
       "      <th>PAY_3_-2</th>\n",
       "      <th>PAY_3_-1</th>\n",
       "      <th>PAY_3_0</th>\n",
       "      <th>PAY_3_2</th>\n",
       "      <th>PAY_3_3</th>\n",
       "      <th>PAY_3_4</th>\n",
       "      <th>PAY_3_5</th>\n",
       "      <th>PAY_3_6</th>\n",
       "      <th>PAY_3_7</th>\n",
       "      <th>PAY_4_-2</th>\n",
       "      <th>PAY_4_-1</th>\n",
       "      <th>PAY_4_0</th>\n",
       "      <th>PAY_4_2</th>\n",
       "      <th>PAY_4_3</th>\n",
       "      <th>PAY_4_4</th>\n",
       "      <th>PAY_4_5</th>\n",
       "      <th>PAY_4_7</th>\n",
       "      <th>PAY_5_-2</th>\n",
       "      <th>PAY_5_-1</th>\n",
       "      <th>PAY_5_0</th>\n",
       "      <th>PAY_5_2</th>\n",
       "      <th>PAY_5_3</th>\n",
       "      <th>PAY_5_4</th>\n",
       "      <th>PAY_5_5</th>\n",
       "      <th>PAY_5_6</th>\n",
       "      <th>PAY_5_7</th>\n",
       "      <th>PAY_6_-2</th>\n",
       "      <th>PAY_6_-1</th>\n",
       "      <th>PAY_6_0</th>\n",
       "      <th>PAY_6_2</th>\n",
       "      <th>PAY_6_3</th>\n",
       "      <th>PAY_6_4</th>\n",
       "      <th>PAY_6_5</th>\n",
       "      <th>PAY_6_6</th>\n",
       "      <th>PAY_6_7</th>\n",
       "    </tr>\n",
       "  </thead>\n",
       "  <tbody>\n",
       "    <tr>\n",
       "      <th>641</th>\n",
       "      <td>130000</td>\n",
       "      <td>28</td>\n",
       "      <td>100143</td>\n",
       "      <td>50456</td>\n",
       "      <td>50000</td>\n",
       "      <td>0</td>\n",
       "      <td>0</td>\n",
       "      <td>0</td>\n",
       "      <td>2500</td>\n",
       "      <td>1000</td>\n",
       "      <td>0</td>\n",
       "      <td>0</td>\n",
       "      <td>0</td>\n",
       "      <td>0</td>\n",
       "      <td>0</td>\n",
       "      <td>1</td>\n",
       "      <td>0</td>\n",
       "      <td>0</td>\n",
       "      <td>1</td>\n",
       "      <td>0</td>\n",
       "      <td>0</td>\n",
       "      <td>0</td>\n",
       "      <td>1</td>\n",
       "      <td>0</td>\n",
       "      <td>0</td>\n",
       "      <td>0</td>\n",
       "      <td>0</td>\n",
       "      <td>1</td>\n",
       "      <td>0</td>\n",
       "      <td>0</td>\n",
       "      <td>0</td>\n",
       "      <td>0</td>\n",
       "      <td>0</td>\n",
       "      <td>0</td>\n",
       "      <td>0</td>\n",
       "      <td>0</td>\n",
       "      <td>0</td>\n",
       "      <td>0</td>\n",
       "      <td>1</td>\n",
       "      <td>0</td>\n",
       "      <td>0</td>\n",
       "      <td>0</td>\n",
       "      <td>0</td>\n",
       "      <td>0</td>\n",
       "      <td>0</td>\n",
       "      <td>0</td>\n",
       "      <td>0</td>\n",
       "      <td>0</td>\n",
       "      <td>1</td>\n",
       "      <td>0</td>\n",
       "      <td>0</td>\n",
       "      <td>0</td>\n",
       "      <td>0</td>\n",
       "      <td>0</td>\n",
       "      <td>0</td>\n",
       "      <td>0</td>\n",
       "      <td>0</td>\n",
       "      <td>1</td>\n",
       "      <td>0</td>\n",
       "      <td>0</td>\n",
       "      <td>0</td>\n",
       "      <td>0</td>\n",
       "      <td>0</td>\n",
       "      <td>1</td>\n",
       "      <td>0</td>\n",
       "      <td>0</td>\n",
       "      <td>0</td>\n",
       "      <td>0</td>\n",
       "      <td>0</td>\n",
       "      <td>0</td>\n",
       "      <td>0</td>\n",
       "      <td>0</td>\n",
       "      <td>1</td>\n",
       "      <td>0</td>\n",
       "      <td>0</td>\n",
       "      <td>0</td>\n",
       "      <td>0</td>\n",
       "      <td>0</td>\n",
       "      <td>0</td>\n",
       "      <td>0</td>\n",
       "      <td>0</td>\n",
       "    </tr>\n",
       "    <tr>\n",
       "      <th>4678</th>\n",
       "      <td>170000</td>\n",
       "      <td>29</td>\n",
       "      <td>165027</td>\n",
       "      <td>168990</td>\n",
       "      <td>172307</td>\n",
       "      <td>35234</td>\n",
       "      <td>32869</td>\n",
       "      <td>33862</td>\n",
       "      <td>7200</td>\n",
       "      <td>7500</td>\n",
       "      <td>1200</td>\n",
       "      <td>1200</td>\n",
       "      <td>1500</td>\n",
       "      <td>1300</td>\n",
       "      <td>1</td>\n",
       "      <td>0</td>\n",
       "      <td>0</td>\n",
       "      <td>0</td>\n",
       "      <td>1</td>\n",
       "      <td>0</td>\n",
       "      <td>0</td>\n",
       "      <td>0</td>\n",
       "      <td>1</td>\n",
       "      <td>0</td>\n",
       "      <td>0</td>\n",
       "      <td>0</td>\n",
       "      <td>0</td>\n",
       "      <td>1</td>\n",
       "      <td>0</td>\n",
       "      <td>0</td>\n",
       "      <td>0</td>\n",
       "      <td>0</td>\n",
       "      <td>0</td>\n",
       "      <td>0</td>\n",
       "      <td>0</td>\n",
       "      <td>0</td>\n",
       "      <td>0</td>\n",
       "      <td>0</td>\n",
       "      <td>1</td>\n",
       "      <td>0</td>\n",
       "      <td>0</td>\n",
       "      <td>0</td>\n",
       "      <td>0</td>\n",
       "      <td>0</td>\n",
       "      <td>0</td>\n",
       "      <td>0</td>\n",
       "      <td>0</td>\n",
       "      <td>0</td>\n",
       "      <td>1</td>\n",
       "      <td>0</td>\n",
       "      <td>0</td>\n",
       "      <td>0</td>\n",
       "      <td>0</td>\n",
       "      <td>0</td>\n",
       "      <td>0</td>\n",
       "      <td>0</td>\n",
       "      <td>0</td>\n",
       "      <td>1</td>\n",
       "      <td>0</td>\n",
       "      <td>0</td>\n",
       "      <td>0</td>\n",
       "      <td>0</td>\n",
       "      <td>0</td>\n",
       "      <td>0</td>\n",
       "      <td>0</td>\n",
       "      <td>1</td>\n",
       "      <td>0</td>\n",
       "      <td>0</td>\n",
       "      <td>0</td>\n",
       "      <td>0</td>\n",
       "      <td>0</td>\n",
       "      <td>0</td>\n",
       "      <td>0</td>\n",
       "      <td>0</td>\n",
       "      <td>1</td>\n",
       "      <td>0</td>\n",
       "      <td>0</td>\n",
       "      <td>0</td>\n",
       "      <td>0</td>\n",
       "      <td>0</td>\n",
       "      <td>0</td>\n",
       "    </tr>\n",
       "    <tr>\n",
       "      <th>16004</th>\n",
       "      <td>180000</td>\n",
       "      <td>29</td>\n",
       "      <td>25781</td>\n",
       "      <td>26000</td>\n",
       "      <td>26310</td>\n",
       "      <td>26662</td>\n",
       "      <td>26166</td>\n",
       "      <td>26176</td>\n",
       "      <td>1800</td>\n",
       "      <td>1800</td>\n",
       "      <td>1500</td>\n",
       "      <td>1056</td>\n",
       "      <td>950</td>\n",
       "      <td>1000</td>\n",
       "      <td>0</td>\n",
       "      <td>1</td>\n",
       "      <td>0</td>\n",
       "      <td>1</td>\n",
       "      <td>0</td>\n",
       "      <td>0</td>\n",
       "      <td>0</td>\n",
       "      <td>0</td>\n",
       "      <td>1</td>\n",
       "      <td>0</td>\n",
       "      <td>0</td>\n",
       "      <td>0</td>\n",
       "      <td>0</td>\n",
       "      <td>1</td>\n",
       "      <td>0</td>\n",
       "      <td>0</td>\n",
       "      <td>0</td>\n",
       "      <td>0</td>\n",
       "      <td>0</td>\n",
       "      <td>0</td>\n",
       "      <td>0</td>\n",
       "      <td>0</td>\n",
       "      <td>0</td>\n",
       "      <td>0</td>\n",
       "      <td>1</td>\n",
       "      <td>0</td>\n",
       "      <td>0</td>\n",
       "      <td>0</td>\n",
       "      <td>0</td>\n",
       "      <td>0</td>\n",
       "      <td>0</td>\n",
       "      <td>0</td>\n",
       "      <td>0</td>\n",
       "      <td>0</td>\n",
       "      <td>1</td>\n",
       "      <td>0</td>\n",
       "      <td>0</td>\n",
       "      <td>0</td>\n",
       "      <td>0</td>\n",
       "      <td>0</td>\n",
       "      <td>0</td>\n",
       "      <td>0</td>\n",
       "      <td>0</td>\n",
       "      <td>1</td>\n",
       "      <td>0</td>\n",
       "      <td>0</td>\n",
       "      <td>0</td>\n",
       "      <td>0</td>\n",
       "      <td>0</td>\n",
       "      <td>0</td>\n",
       "      <td>0</td>\n",
       "      <td>1</td>\n",
       "      <td>0</td>\n",
       "      <td>0</td>\n",
       "      <td>0</td>\n",
       "      <td>0</td>\n",
       "      <td>0</td>\n",
       "      <td>0</td>\n",
       "      <td>0</td>\n",
       "      <td>0</td>\n",
       "      <td>1</td>\n",
       "      <td>0</td>\n",
       "      <td>0</td>\n",
       "      <td>0</td>\n",
       "      <td>0</td>\n",
       "      <td>0</td>\n",
       "      <td>0</td>\n",
       "    </tr>\n",
       "    <tr>\n",
       "      <th>22974</th>\n",
       "      <td>210000</td>\n",
       "      <td>32</td>\n",
       "      <td>355</td>\n",
       "      <td>975</td>\n",
       "      <td>410</td>\n",
       "      <td>0</td>\n",
       "      <td>0</td>\n",
       "      <td>0</td>\n",
       "      <td>979</td>\n",
       "      <td>412</td>\n",
       "      <td>0</td>\n",
       "      <td>0</td>\n",
       "      <td>0</td>\n",
       "      <td>0</td>\n",
       "      <td>0</td>\n",
       "      <td>1</td>\n",
       "      <td>0</td>\n",
       "      <td>1</td>\n",
       "      <td>0</td>\n",
       "      <td>0</td>\n",
       "      <td>0</td>\n",
       "      <td>0</td>\n",
       "      <td>0</td>\n",
       "      <td>1</td>\n",
       "      <td>0</td>\n",
       "      <td>1</td>\n",
       "      <td>0</td>\n",
       "      <td>0</td>\n",
       "      <td>0</td>\n",
       "      <td>0</td>\n",
       "      <td>0</td>\n",
       "      <td>0</td>\n",
       "      <td>0</td>\n",
       "      <td>0</td>\n",
       "      <td>0</td>\n",
       "      <td>0</td>\n",
       "      <td>1</td>\n",
       "      <td>0</td>\n",
       "      <td>0</td>\n",
       "      <td>0</td>\n",
       "      <td>0</td>\n",
       "      <td>0</td>\n",
       "      <td>0</td>\n",
       "      <td>0</td>\n",
       "      <td>0</td>\n",
       "      <td>0</td>\n",
       "      <td>1</td>\n",
       "      <td>0</td>\n",
       "      <td>0</td>\n",
       "      <td>0</td>\n",
       "      <td>0</td>\n",
       "      <td>0</td>\n",
       "      <td>0</td>\n",
       "      <td>0</td>\n",
       "      <td>0</td>\n",
       "      <td>1</td>\n",
       "      <td>0</td>\n",
       "      <td>0</td>\n",
       "      <td>0</td>\n",
       "      <td>0</td>\n",
       "      <td>0</td>\n",
       "      <td>0</td>\n",
       "      <td>0</td>\n",
       "      <td>1</td>\n",
       "      <td>0</td>\n",
       "      <td>0</td>\n",
       "      <td>0</td>\n",
       "      <td>0</td>\n",
       "      <td>0</td>\n",
       "      <td>0</td>\n",
       "      <td>0</td>\n",
       "      <td>0</td>\n",
       "      <td>1</td>\n",
       "      <td>0</td>\n",
       "      <td>0</td>\n",
       "      <td>0</td>\n",
       "      <td>0</td>\n",
       "      <td>0</td>\n",
       "      <td>0</td>\n",
       "      <td>0</td>\n",
       "      <td>0</td>\n",
       "    </tr>\n",
       "    <tr>\n",
       "      <th>17535</th>\n",
       "      <td>190000</td>\n",
       "      <td>45</td>\n",
       "      <td>76433</td>\n",
       "      <td>78472</td>\n",
       "      <td>80548</td>\n",
       "      <td>81778</td>\n",
       "      <td>83082</td>\n",
       "      <td>84811</td>\n",
       "      <td>3300</td>\n",
       "      <td>3331</td>\n",
       "      <td>3359</td>\n",
       "      <td>2663</td>\n",
       "      <td>2751</td>\n",
       "      <td>3000</td>\n",
       "      <td>0</td>\n",
       "      <td>1</td>\n",
       "      <td>0</td>\n",
       "      <td>0</td>\n",
       "      <td>1</td>\n",
       "      <td>0</td>\n",
       "      <td>0</td>\n",
       "      <td>0</td>\n",
       "      <td>1</td>\n",
       "      <td>0</td>\n",
       "      <td>0</td>\n",
       "      <td>0</td>\n",
       "      <td>0</td>\n",
       "      <td>1</td>\n",
       "      <td>0</td>\n",
       "      <td>0</td>\n",
       "      <td>0</td>\n",
       "      <td>0</td>\n",
       "      <td>0</td>\n",
       "      <td>0</td>\n",
       "      <td>0</td>\n",
       "      <td>0</td>\n",
       "      <td>0</td>\n",
       "      <td>0</td>\n",
       "      <td>1</td>\n",
       "      <td>0</td>\n",
       "      <td>0</td>\n",
       "      <td>0</td>\n",
       "      <td>0</td>\n",
       "      <td>0</td>\n",
       "      <td>0</td>\n",
       "      <td>0</td>\n",
       "      <td>0</td>\n",
       "      <td>0</td>\n",
       "      <td>1</td>\n",
       "      <td>0</td>\n",
       "      <td>0</td>\n",
       "      <td>0</td>\n",
       "      <td>0</td>\n",
       "      <td>0</td>\n",
       "      <td>0</td>\n",
       "      <td>0</td>\n",
       "      <td>0</td>\n",
       "      <td>1</td>\n",
       "      <td>0</td>\n",
       "      <td>0</td>\n",
       "      <td>0</td>\n",
       "      <td>0</td>\n",
       "      <td>0</td>\n",
       "      <td>0</td>\n",
       "      <td>0</td>\n",
       "      <td>1</td>\n",
       "      <td>0</td>\n",
       "      <td>0</td>\n",
       "      <td>0</td>\n",
       "      <td>0</td>\n",
       "      <td>0</td>\n",
       "      <td>0</td>\n",
       "      <td>0</td>\n",
       "      <td>0</td>\n",
       "      <td>1</td>\n",
       "      <td>0</td>\n",
       "      <td>0</td>\n",
       "      <td>0</td>\n",
       "      <td>0</td>\n",
       "      <td>0</td>\n",
       "      <td>0</td>\n",
       "    </tr>\n",
       "  </tbody>\n",
       "</table>\n",
       "</div>"
      ],
      "text/plain": [
       "       LIMIT_BAL  AGE  BILL_AMT1  BILL_AMT2  BILL_AMT3  BILL_AMT4  BILL_AMT5  \\\n",
       "641       130000   28     100143      50456      50000          0          0   \n",
       "4678      170000   29     165027     168990     172307      35234      32869   \n",
       "16004     180000   29      25781      26000      26310      26662      26166   \n",
       "22974     210000   32        355        975        410          0          0   \n",
       "17535     190000   45      76433      78472      80548      81778      83082   \n",
       "\n",
       "       BILL_AMT6  PAY_AMT1  PAY_AMT2  PAY_AMT3  PAY_AMT4  PAY_AMT5  PAY_AMT6  \\\n",
       "641            0      2500      1000         0         0         0         0   \n",
       "4678       33862      7200      7500      1200      1200      1500      1300   \n",
       "16004      26176      1800      1800      1500      1056       950      1000   \n",
       "22974          0       979       412         0         0         0         0   \n",
       "17535      84811      3300      3331      3359      2663      2751      3000   \n",
       "\n",
       "       SEX_1  SEX_2  EDUCATION_1  EDUCATION_2  EDUCATION_3  EDUCATION_4  \\\n",
       "641        0      1            0            0            1            0   \n",
       "4678       1      0            0            0            1            0   \n",
       "16004      0      1            0            1            0            0   \n",
       "22974      0      1            0            1            0            0   \n",
       "17535      0      1            0            0            1            0   \n",
       "\n",
       "       EDUCATION_5  EDUCATION_6  MARRIAGE_1  MARRIAGE_2  MARRIAGE_3  PAY_0_-2  \\\n",
       "641              0            0           1           0           0         0   \n",
       "4678             0            0           1           0           0         0   \n",
       "16004            0            0           1           0           0         0   \n",
       "22974            0            0           0           1           0         1   \n",
       "17535            0            0           1           0           0         0   \n",
       "\n",
       "       PAY_0_-1  PAY_0_0  PAY_0_1  PAY_0_2  PAY_0_3  PAY_0_4  PAY_0_5  \\\n",
       "641           0        1        0        0        0        0        0   \n",
       "4678          0        1        0        0        0        0        0   \n",
       "16004         0        1        0        0        0        0        0   \n",
       "22974         0        0        0        0        0        0        0   \n",
       "17535         0        1        0        0        0        0        0   \n",
       "\n",
       "       PAY_0_6  PAY_0_7  PAY_0_8  PAY_2_-2  PAY_2_-1  PAY_2_0  PAY_2_1  \\\n",
       "641          0        0        0         0         0        1        0   \n",
       "4678         0        0        0         0         0        1        0   \n",
       "16004        0        0        0         0         0        1        0   \n",
       "22974        0        0        0         1         0        0        0   \n",
       "17535        0        0        0         0         0        1        0   \n",
       "\n",
       "       PAY_2_2  PAY_2_3  PAY_2_4  PAY_2_5  PAY_2_6  PAY_2_7  PAY_3_-2  \\\n",
       "641          0        0        0        0        0        0         0   \n",
       "4678         0        0        0        0        0        0         0   \n",
       "16004        0        0        0        0        0        0         0   \n",
       "22974        0        0        0        0        0        0         1   \n",
       "17535        0        0        0        0        0        0         0   \n",
       "\n",
       "       PAY_3_-1  PAY_3_0  PAY_3_2  PAY_3_3  PAY_3_4  PAY_3_5  PAY_3_6  \\\n",
       "641           0        1        0        0        0        0        0   \n",
       "4678          0        1        0        0        0        0        0   \n",
       "16004         0        1        0        0        0        0        0   \n",
       "22974         0        0        0        0        0        0        0   \n",
       "17535         0        1        0        0        0        0        0   \n",
       "\n",
       "       PAY_3_7  PAY_4_-2  PAY_4_-1  PAY_4_0  PAY_4_2  PAY_4_3  PAY_4_4  \\\n",
       "641          0         0         0        1        0        0        0   \n",
       "4678         0         0         0        1        0        0        0   \n",
       "16004        0         0         0        1        0        0        0   \n",
       "22974        0         1         0        0        0        0        0   \n",
       "17535        0         0         0        1        0        0        0   \n",
       "\n",
       "       PAY_4_5  PAY_4_7  PAY_5_-2  PAY_5_-1  PAY_5_0  PAY_5_2  PAY_5_3  \\\n",
       "641          0        0         1         0        0        0        0   \n",
       "4678         0        0         0         0        1        0        0   \n",
       "16004        0        0         0         0        1        0        0   \n",
       "22974        0        0         1         0        0        0        0   \n",
       "17535        0        0         0         0        1        0        0   \n",
       "\n",
       "       PAY_5_4  PAY_5_5  PAY_5_6  PAY_5_7  PAY_6_-2  PAY_6_-1  PAY_6_0  \\\n",
       "641          0        0        0        0         1         0        0   \n",
       "4678         0        0        0        0         0         0        1   \n",
       "16004        0        0        0        0         0         0        1   \n",
       "22974        0        0        0        0         1         0        0   \n",
       "17535        0        0        0        0         0         0        1   \n",
       "\n",
       "       PAY_6_2  PAY_6_3  PAY_6_4  PAY_6_5  PAY_6_6  PAY_6_7  \n",
       "641          0        0        0        0        0        0  \n",
       "4678         0        0        0        0        0        0  \n",
       "16004        0        0        0        0        0        0  \n",
       "22974        0        0        0        0        0        0  \n",
       "17535        0        0        0        0        0        0  "
      ]
     },
     "execution_count": 20,
     "metadata": {},
     "output_type": "execute_result"
    }
   ],
   "source": [
    "X_encoded = pd.get_dummies(X_down, columns=['SEX',\n",
    "                                            'EDUCATION',\n",
    "                                            'MARRIAGE',\n",
    "                                            'PAY_0',\n",
    "                                            'PAY_2',\n",
    "                                            'PAY_3',\n",
    "                                            'PAY_4',\n",
    "                                            'PAY_5',\n",
    "                                            'PAY_6'])\n",
    "X_encoded.head()"
   ]
  },
  {
   "cell_type": "markdown",
   "id": "ef23d05e",
   "metadata": {
    "id": "ef23d05e"
   },
   "source": [
    "#### Splitting the data into training and testing"
   ]
  },
  {
   "cell_type": "code",
   "execution_count": 21,
   "id": "2b5f5488",
   "metadata": {
    "executionInfo": {
     "elapsed": 2,
     "status": "ok",
     "timestamp": 1642420196030,
     "user": {
      "displayName": "Tomasz Tester",
      "photoUrl": "https://lh3.googleusercontent.com/a/default-user=s64",
      "userId": "09452002172872773213"
     },
     "user_tz": -60
    },
    "id": "2b5f5488"
   },
   "outputs": [],
   "source": [
    "X_train, X_test, y_train, y_test = train_test_split(X_encoded, y_down, test_size = 0.2, random_state = 42)"
   ]
  },
  {
   "cell_type": "markdown",
   "id": "0b3c3a35",
   "metadata": {
    "id": "0b3c3a35"
   },
   "source": [
    "#### Standardizing the data with StandardScaler()"
   ]
  },
  {
   "cell_type": "code",
   "execution_count": 22,
   "id": "6d60363e",
   "metadata": {
    "colab": {
     "base_uri": "https://localhost:8080/"
    },
    "executionInfo": {
     "elapsed": 3,
     "status": "ok",
     "timestamp": 1642420197274,
     "user": {
      "displayName": "Tomasz Tester",
      "photoUrl": "https://lh3.googleusercontent.com/a/default-user=s64",
      "userId": "09452002172872773213"
     },
     "user_tz": -60
    },
    "id": "6d60363e",
    "outputId": "c8ae3ae4-6514-48c8-ab98-a17a84238c00"
   },
   "outputs": [
    {
     "data": {
      "text/plain": [
       "StandardScaler()"
      ]
     },
     "execution_count": 22,
     "metadata": {},
     "output_type": "execute_result"
    }
   ],
   "source": [
    "scaler = StandardScaler()\n",
    "scaler.fit(X_train)"
   ]
  },
  {
   "cell_type": "code",
   "execution_count": 23,
   "id": "ea60e17f",
   "metadata": {
    "executionInfo": {
     "elapsed": 2,
     "status": "ok",
     "timestamp": 1642420197877,
     "user": {
      "displayName": "Tomasz Tester",
      "photoUrl": "https://lh3.googleusercontent.com/a/default-user=s64",
      "userId": "09452002172872773213"
     },
     "user_tz": -60
    },
    "id": "ea60e17f"
   },
   "outputs": [],
   "source": [
    "X_train_scaled = scaler.transform(X_train)\n",
    "X_test_scaled = scaler.transform(X_test)"
   ]
  },
  {
   "cell_type": "markdown",
   "id": "b144eee8",
   "metadata": {
    "id": "b144eee8"
   },
   "source": [
    "#### Building a SVM classifier"
   ]
  },
  {
   "cell_type": "code",
   "execution_count": 24,
   "id": "6670e167",
   "metadata": {
    "colab": {
     "base_uri": "https://localhost:8080/"
    },
    "executionInfo": {
     "elapsed": 586,
     "status": "ok",
     "timestamp": 1642420200357,
     "user": {
      "displayName": "Tomasz Tester",
      "photoUrl": "https://lh3.googleusercontent.com/a/default-user=s64",
      "userId": "09452002172872773213"
     },
     "user_tz": -60
    },
    "id": "6670e167",
    "outputId": "6244400a-48b7-4bdd-b9a8-5e93f4d2a2a7"
   },
   "outputs": [
    {
     "data": {
      "text/plain": [
       "SVC(random_state=42)"
      ]
     },
     "execution_count": 24,
     "metadata": {},
     "output_type": "execute_result"
    }
   ],
   "source": [
    "clf = SVC(random_state=42)\n",
    "clf.fit(X_train_scaled, y_train)"
   ]
  },
  {
   "cell_type": "code",
   "execution_count": 25,
   "id": "1dfa455c",
   "metadata": {
    "colab": {
     "base_uri": "https://localhost:8080/",
     "height": 279
    },
    "executionInfo": {
     "elapsed": 766,
     "status": "ok",
     "timestamp": 1642420461743,
     "user": {
      "displayName": "Tomasz Tester",
      "photoUrl": "https://lh3.googleusercontent.com/a/default-user=s64",
      "userId": "09452002172872773213"
     },
     "user_tz": -60
    },
    "id": "1dfa455c",
    "outputId": "e7083982-56c4-4ea0-df92-8401f6b6ce26"
   },
   "outputs": [
    {
     "data": {
      "image/png": "[encoded data removed]",
      "text/plain": [
       "<Figure size 432x288 with 2 Axes>"
      ]
     },
     "metadata": {
      "needs_background": "light"
     },
     "output_type": "display_data"
    }
   ],
   "source": [
    "predictions = clf.predict(X_test_scaled)\n",
    "cm = confusion_matrix(y_test, predictions, labels=clf.classes_)\n",
    "disp = ConfusionMatrixDisplay(confusion_matrix=cm,\n",
    "                              display_labels = clf.classes_)\n",
    "disp.plot();"
   ]
  },
  {
   "cell_type": "markdown",
   "id": "4cce14a8",
   "metadata": {
    "id": "4cce14a8"
   },
   "source": [
    "#### Optimization "
   ]
  },
  {
   "cell_type": "code",
   "execution_count": 26,
   "id": "b385d429",
   "metadata": {
    "colab": {
     "base_uri": "https://localhost:8080/"
    },
    "executionInfo": {
     "elapsed": 28559,
     "status": "ok",
     "timestamp": 1642405853516,
     "user": {
      "displayName": "Tomasz Tester",
      "photoUrl": "https://lh3.googleusercontent.com/a/default-user=s64",
      "userId": "09452002172872773213"
     },
     "user_tz": -60
    },
    "id": "b385d429",
    "outputId": "960dfb3e-0780-4ef8-f27a-9fde92fab9c0"
   },
   "outputs": [
    {
     "data": {
      "text/plain": [
       "GridSearchCV(estimator=SVC(),\n",
       "             param_grid=[{'C': [0.5, 1, 10, 100, 1000],\n",
       "                          'gamma': ['scale', 1, 0.1, 0.01, 0.001, 0.0001],\n",
       "                          'kernel': ['rbf']}],\n",
       "             scoring='accuracy')"
      ]
     },
     "execution_count": 26,
     "metadata": {},
     "output_type": "execute_result"
    }
   ],
   "source": [
    "param_grid = [{ 'C': [0.5, 1, 10, 100, 1000],\n",
    "                'gamma': ['scale', 1, 0.1, 0.01, 0.001, 0.0001],\n",
    "                'kernel': ['rbf']}]\n",
    "\n",
    "optimal_params = GridSearchCV(SVC(),\n",
    "                              param_grid,\n",
    "                              scoring = 'accuracy')\n",
    "\n",
    "optimal_params.fit(X_train_scaled, y_train)                              "
   ]
  },
  {
   "cell_type": "code",
   "execution_count": 27,
   "id": "9a899ae8",
   "metadata": {
    "colab": {
     "base_uri": "https://localhost:8080/"
    },
    "executionInfo": {
     "elapsed": 309,
     "status": "ok",
     "timestamp": 1642405865377,
     "user": {
      "displayName": "Tomasz Tester",
      "photoUrl": "https://lh3.googleusercontent.com/a/default-user=s64",
      "userId": "09452002172872773213"
     },
     "user_tz": -60
    },
    "id": "9a899ae8",
    "outputId": "b7a6a5f7-4bff-4b43-cb1d-73ecd2697453"
   },
   "outputs": [
    {
     "data": {
      "text/plain": [
       "{'C': 1, 'gamma': 0.01, 'kernel': 'rbf'}"
      ]
     },
     "execution_count": 27,
     "metadata": {},
     "output_type": "execute_result"
    }
   ],
   "source": [
    "optimal_params.best_params_"
   ]
  },
  {
   "cell_type": "markdown",
   "id": "sz3vHErEBbJ_",
   "metadata": {
    "id": "sz3vHErEBbJ_"
   },
   "source": [
    "#### Building Support Vector Machine Classifier using best parameters"
   ]
  },
  {
   "cell_type": "code",
   "execution_count": 28,
   "id": "U8hRJNxxBaC9",
   "metadata": {
    "colab": {
     "base_uri": "https://localhost:8080/"
    },
    "executionInfo": {
     "elapsed": 238,
     "status": "ok",
     "timestamp": 1642420627318,
     "user": {
      "displayName": "Tomasz Tester",
      "photoUrl": "https://lh3.googleusercontent.com/a/default-user=s64",
      "userId": "09452002172872773213"
     },
     "user_tz": -60
    },
    "id": "U8hRJNxxBaC9",
    "outputId": "45ee3bed-4f7d-4438-cb87-dccfd8c25bb3"
   },
   "outputs": [
    {
     "data": {
      "text/plain": [
       "SVC(C=1, gamma=0.01, random_state=42)"
      ]
     },
     "execution_count": 28,
     "metadata": {},
     "output_type": "execute_result"
    }
   ],
   "source": [
    "clf_best = SVC(C = 1,\n",
    "               gamma = 0.01,\n",
    "               kernel = 'rbf',\n",
    "               random_state = 42)\n",
    "clf_best.fit(X_train_scaled, y_train)"
   ]
  },
  {
   "cell_type": "code",
   "execution_count": 29,
   "id": "Q-PgoPm1CN0V",
   "metadata": {
    "colab": {
     "base_uri": "https://localhost:8080/",
     "height": 279
    },
    "executionInfo": {
     "elapsed": 737,
     "status": "ok",
     "timestamp": 1642420631065,
     "user": {
      "displayName": "Tomasz Tester",
      "photoUrl": "https://lh3.googleusercontent.com/a/default-user=s64",
      "userId": "09452002172872773213"
     },
     "user_tz": -60
    },
    "id": "Q-PgoPm1CN0V",
    "outputId": "fde5a4c5-b0e0-4eb9-f0ea-5c1b4b73fbca"
   },
   "outputs": [
    {
     "data": {
      "image/png": "[encoded data removed]",
      "text/plain": [
       "<Figure size 432x288 with 2 Axes>"
      ]
     },
     "metadata": {
      "needs_background": "light"
     },
     "output_type": "display_data"
    }
   ],
   "source": [
    "best_predictions = clf_best.predict(X_test_scaled)\n",
    "cm_best = confusion_matrix(y_test, best_predictions, labels=clf_best.classes_)\n",
    "disp_best = ConfusionMatrixDisplay(confusion_matrix=cm_best,\n",
    "                                   display_labels = clf_best.classes_)\n",
    "disp_best.plot();"
   ]
  },
  {
   "cell_type": "markdown",
   "id": "C_bY1PHRG9MF",
   "metadata": {
    "id": "C_bY1PHRG9MF"
   },
   "source": [
    "#### Scaling and plotting the results"
   ]
  },
  {
   "cell_type": "code",
   "execution_count": 30,
   "id": "6B-e_4X_CTns",
   "metadata": {
    "colab": {
     "base_uri": "https://localhost:8080/",
     "height": 278
    },
    "executionInfo": {
     "elapsed": 739,
     "status": "ok",
     "timestamp": 1642421526324,
     "user": {
      "displayName": "Tomasz Tester",
      "photoUrl": "https://lh3.googleusercontent.com/a/default-user=s64",
      "userId": "09452002172872773213"
     },
     "user_tz": -60
    },
    "id": "6B-e_4X_CTns",
    "outputId": "e6b2aaff-ea93-4b28-d9be-d09a6ea2cc4d"
   },
   "outputs": [
    {
     "data": {
      "image/png": "[encoded data removed]",
      "text/plain": [
       "<Figure size 432x288 with 1 Axes>"
      ]
     },
     "metadata": {
      "needs_background": "light"
     },
     "output_type": "display_data"
    }
   ],
   "source": [
    "pca = PCA()\n",
    "X_train_pca = pca.fit_transform(X_train_scaled)\n",
    "\n",
    "per_var = np.round(pca.explained_variance_ratio_ * 100, decimals = 1)\n",
    "labels = [str(x) for x in range(1, len(per_var)+1)]\n",
    "\n",
    "plt.bar(x=range(1, len(per_var)+1), height=per_var)\n",
    "plt.tick_params(axis = 'x',\n",
    "                which='both',\n",
    "                bottom=False,\n",
    "                top=False,\n",
    "                labelbottom=False)\n",
    "\n",
    "plt.ylabel('Percentage of explained variance')\n",
    "plt.xlabel('Principal components')\n",
    "plt.title('Scree plot')\n",
    "plt.show();\n"
   ]
  },
  {
   "cell_type": "markdown",
   "id": "bf54b397",
   "metadata": {},
   "source": [
    "The scree plot shows that the first principal component (pc1) accounts for relatively large amount of variation in the raw data and this means that it will be a good candidate for the x-axis in the 2-dimensional graph. However pc2 is pretty much the same as pc3, pc4 which doesn't bode well for dimension reduction. What we would like to see it for those two columns to stand out on top of other results. \n",
    "\n",
    "The next step is to draw the PCA graph. Let's do that with the results we got."
   ]
  },
  {
   "cell_type": "markdown",
   "id": "5187e950",
   "metadata": {
    "id": "di8pFvBi6mF7"
   },
   "source": [
    "## The PCA graph\n",
    "\n",
    "### In here we are retraining the SVM on just those two first columns from scree plot "
   ]
  },
  {
   "cell_type": "code",
   "execution_count": 34,
   "id": "fa69703a",
   "metadata": {},
   "outputs": [
    {
     "name": "stdout",
     "output_type": "stream",
     "text": [
      "{'C': 1000, 'gamma': 1, 'kernel': 'rbf'}\n"
     ]
    }
   ],
   "source": [
    "# pc1 contains x-axis coordinates of the data after PCA\n",
    "# pc2 contains y-axis coordinates of the data after PCA\n",
    "train_pc1_coords = X_train_pca[:, 0]\n",
    "train_pc2_coords = X_train_pca[:, 1]\n",
    "\n",
    "# Centering and scaling the data\n",
    "pca_train_scaled = scale(np.column_stack((train_pc1_coords, train_pc2_coords)))\n",
    "\n",
    "# Optimizing the SVM fit to the x and y-axis coordinates\n",
    "param_grid = [{'C': [1, 10, 100, 1000],\n",
    "               'gamma': ['scale', 1, 0.1, 0.01, 0.001, 0.0001],\n",
    "               'kernel': ['rbf']}]\n",
    "\n",
    "optimal_params = GridSearchCV(SVC(),\n",
    "                              param_grid,\n",
    "                              cv = 5,\n",
    "                              scoring = 'accuracy',\n",
    "                              verbose = 0)\n",
    "\n",
    "optimal_params.fit(pca_train_scaled, y_train)\n",
    "print(optimal_params.best_params_)"
   ]
  },
  {
   "cell_type": "markdown",
   "id": "2985640e",
   "metadata": {},
   "source": [
    "Even though gamma in the results is 1 we will use 0.001 to make the graph clearer and easier to explain"
   ]
  },
  {
   "cell_type": "markdown",
   "id": "1fef923d",
   "metadata": {},
   "source": [
    "### Drawing the graph"
   ]
  },
  {
   "cell_type": "code",
   "execution_count": 42,
   "id": "e4e5aefa",
   "metadata": {},
   "outputs": [
    {
     "data": {
      "image/png": "[encoded data removed]",
      "text/plain": [
       "<Figure size 720x720 with 1 Axes>"
      ]
     },
     "metadata": {
      "needs_background": "light"
     },
     "output_type": "display_data"
    }
   ],
   "source": [
    "clf = SVC(random_state = 42, gamma = 0.001, C = 1000)\n",
    "clf.fit(pca_train_scaled, y_train)\n",
    "\n",
    "# Transforming dataset with PCA\n",
    "X_test_pca = pca.transform(X_train_scaled)\n",
    "\n",
    "test_pc1_coords = X_test_pca[:, 0]\n",
    "test_pc2_coords = X_test_pca[:, 1]\n",
    "\n",
    "# Creating a matrix of points to be used to show decision regions.\n",
    "# The matrix will be a little bit larger than the transformed PCA points \n",
    "# so that we can plot all of the PCA points on it without them being on the edge\n",
    "x_min = test_pc1_coords.min() - 1\n",
    "x_max = test_pc1_coords.max() + 1\n",
    "y_min = test_pc2_coords.min() - 1\n",
    "y_max = test_pc2_coords.max() + 1\n",
    "\n",
    "xx, yy = np.meshgrid(np.arange(start = x_min, stop = x_max, step = 0.1),\n",
    "                     np.arange(start = y_min, stop = y_max, step = 0.1))\n",
    "\n",
    "# Classifying every point in matrix with SVM\n",
    "# Points on the side of the classification boundary will get 0\n",
    "# Points on the other side will get 1\n",
    "Z = clf.predict(np.column_stack((xx.ravel(), yy.ravel())))\n",
    "\n",
    "# Right now X is just a long array of 0's and 1's which reflect how each point in the mesh was classified.\n",
    "# We use reshape() so that each classification (0 or 1) corresponds to a specific point in matrix\n",
    "Z = Z.reshape(xx.shape)\n",
    "\n",
    "fig,ax = plt.subplots(figsize = (10,10))\n",
    "\n",
    "# We will use contourf() to draw a filled contour plot using matrix values and classifications.\n",
    "# The contours will be filled according to the predicted classifications (0's and 1's) in Z\n",
    "ax.contourf(xx, yy, Z, alpha = 0.1)\n",
    "\n",
    "# Creating custom colors for actual data points\n",
    "cmap = colors.ListedColormap(['#e41a1c', '#4daf4a'])\n",
    "\n",
    "# Drawing actual points - colored by their known (not predicted) classifications\n",
    "# Setting alpha to 0.7 lets us see if we are covering up a point\n",
    "scatter = ax.scatter(test_pc1_coords, \n",
    "                     test_pc2_coords, \n",
    "                     c = y_train,\n",
    "                     cmap = cmap, \n",
    "                     edgecolors = 'k',\n",
    "                     alpha = 0.7)\n",
    "\n",
    "# Legend\n",
    "legend = ax.legend(scatter.legend_elements()[0],\n",
    "                   scatter.legend_elements()[1],\n",
    "                   loc = \"upper right\")\n",
    "legend.get_texts()[0].set_text(\"No default\")\n",
    "legend.get_texts()[1].set_text(\"Yes Default\")\n",
    "\n",
    "# Axis labels and titles\n",
    "ax.set_ylabel('PC2')\n",
    "ax.set_xlabel('PC1')\n",
    "ax.set_title('Decision surface using PCA projected features')\n",
    "\n",
    "plt.show();"
   ]
  },
  {
   "cell_type": "markdown",
   "id": "a87c5d76",
   "metadata": {},
   "source": [
    "The light purple on the graph is the area were all datapoints will be predicter to have not defaulted. The yellow part of the graph is the area where all datapoints will be predicted to have defaulted.The dots are datapoints in the training dataset (red for those that did not default and green for those that defaulted).\n",
    "\n",
    "The results are showing the training data not testing data. We only fit the SVM to the first two principal components not all of them so it is only an approximation of the true classifier. Because PC2 was very similar to PC3 or PC4 this is not very good approximation."
   ]
  },
  {
   "cell_type": "code",
   "execution_count": null,
   "id": "6c7de961",
   "metadata": {},
   "outputs": [],
   "source": []
  }
 ],
 "metadata": {
  "colab": {
   "name": "SVM - default of credit card clients.ipynb",
   "provenance": []
  },
  "kernelspec": {
   "display_name": "Python 3 (ipykernel)",
   "language": "python",
   "name": "python3"
  },
  "language_info": {
   "codemirror_mode": {
    "name": "ipython",
    "version": 3
   },
   "file_extension": ".py",
   "mimetype": "text/x-python",
   "name": "python",
   "nbconvert_exporter": "python",
   "pygments_lexer": "ipython3",
   "version": "3.8.12"
  }
 },
 "nbformat": 4,
 "nbformat_minor": 5
}
